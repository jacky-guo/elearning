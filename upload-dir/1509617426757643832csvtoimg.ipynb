{
 "cells": [
  {
   "cell_type": "code",
   "execution_count": 10,
   "metadata": {},
   "outputs": [],
   "source": [
    "import numpy as np\n",
    "import pandas as pd\n",
    "from keras.utils import np_utils"
   ]
  },
  {
   "cell_type": "code",
   "execution_count": 11,
   "metadata": {},
   "outputs": [],
   "source": [
    "df = pd.read_csv('data/train.csv')"
   ]
  },
  {
   "cell_type": "code",
   "execution_count": 12,
   "metadata": {},
   "outputs": [],
   "source": [
    "X_train = []\n",
    "for index in range(len(df)):\n",
    "    X_train.append(np.asarray(list(map(int, df.feature[index].split()))))"
   ]
  },
  {
   "cell_type": "code",
   "execution_count": 21,
   "metadata": {},
   "outputs": [
    {
     "data": {
      "text/plain": [
       "array([[[ 70,  80,  82, ...,  52,  43,  41],\n",
       "        [ 65,  61,  58, ...,  56,  52,  44],\n",
       "        [ 50,  43,  54, ...,  49,  56,  47],\n",
       "        ..., \n",
       "        [ 91,  65,  42, ...,  72,  56,  43],\n",
       "        [ 77,  82,  79, ..., 105,  70,  46],\n",
       "        [ 77,  72,  84, ..., 106, 109,  82]],\n",
       "\n",
       "       [[151, 150, 147, ..., 129, 140, 120],\n",
       "        [151, 149, 149, ..., 122, 141, 137],\n",
       "        [151, 151, 156, ..., 109, 123, 146],\n",
       "        ..., \n",
       "        [188, 188, 121, ..., 185, 185, 186],\n",
       "        [188, 187, 196, ..., 186, 182, 187],\n",
       "        [186, 184, 185, ..., 193, 183, 184]],\n",
       "\n",
       "       [[231, 212, 156, ...,  44,  27,  16],\n",
       "        [229, 175, 148, ...,  27,  35,  27],\n",
       "        [214, 156, 157, ...,  28,  22,  28],\n",
       "        ..., \n",
       "        [241, 245, 250, ...,  57, 101, 146],\n",
       "        [246, 250, 252, ...,  78, 105, 162],\n",
       "        [250, 251, 250, ...,  88, 110, 152]],\n",
       "\n",
       "       ..., \n",
       "       [[ 74,  81,  87, ..., 189, 191, 192],\n",
       "        [ 78,  82,  89, ..., 185, 189, 193],\n",
       "        [ 81,  86,  94, ..., 176, 185, 193],\n",
       "        ..., \n",
       "        [ 90,  99, 113, ..., 192, 195, 197],\n",
       "        [ 88,  96, 114, ..., 192, 194, 192],\n",
       "        [ 88,  97, 110, ..., 188, 187, 187]],\n",
       "\n",
       "       [[222, 227, 203, ..., 138, 132, 122],\n",
       "        [222, 226, 203, ..., 142, 136, 127],\n",
       "        [222, 225, 206, ..., 147, 143, 129],\n",
       "        ..., \n",
       "        [179, 180, 177, ..., 141, 139, 137],\n",
       "        [188, 182, 176, ..., 138, 136, 135],\n",
       "        [181, 168, 155, ..., 136, 136, 134]],\n",
       "\n",
       "       [[195, 199, 205, ..., 182, 140,  77],\n",
       "        [193, 196, 202, ..., 197, 165, 105],\n",
       "        [198, 200, 204, ..., 208, 196, 157],\n",
       "        ..., \n",
       "        [ 57,  73,  84, ...,   3,  20,  33],\n",
       "        [ 61,  73,  96, ...,   6,  19,  41],\n",
       "        [ 61,  79,  95, ...,   6,  15,  38]]], dtype=uint8)"
      ]
     },
     "execution_count": 21,
     "metadata": {},
     "output_type": "execute_result"
    }
   ],
   "source": [
    "X_train = np.asarray(X_train)\n",
    "X_train = X_train.reshape(-1,48,48).astype(np.uint8)\n",
    "X_train"
   ]
  },
  {
   "cell_type": "code",
   "execution_count": 22,
   "metadata": {},
   "outputs": [],
   "source": [
    "from PIL import Image\n",
    "num = 1\n",
    "X = X_train[0:2]\n",
    "for i in X_train:\n",
    "    img = Image.fromarray(i)\n",
    "    img.save('img/img'+str(num)+'.png')\n",
    "    num += 1\n",
    "    \n"
   ]
  },
  {
   "cell_type": "code",
   "execution_count": null,
   "metadata": {},
   "outputs": [],
   "source": []
  }
 ],
 "metadata": {
  "kernelspec": {
   "display_name": "Python 3",
   "language": "python",
   "name": "python3"
  },
  "language_info": {
   "codemirror_mode": {
    "name": "ipython",
    "version": 3
   },
   "file_extension": ".py",
   "mimetype": "text/x-python",
   "name": "python",
   "nbconvert_exporter": "python",
   "pygments_lexer": "ipython3",
   "version": "3.6.3"
  }
 },
 "nbformat": 4,
 "nbformat_minor": 2
}
